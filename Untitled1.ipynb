{
 "cells": [
  {
   "cell_type": "code",
   "execution_count": 1,
   "metadata": {},
   "outputs": [
    {
     "data": {
      "text/plain": [
       "<RequirementSet object; 1 requirement(s): requests>"
      ]
     },
     "execution_count": 1,
     "metadata": {},
     "output_type": "execute_result"
    }
   ],
   "source": [
    "import pip\n",
    "c = pip.commands.install.InstallCommand()\n",
    "c.run(*c.parse_args(['requests']))"
   ]
  },
  {
   "cell_type": "code",
   "execution_count": 2,
   "metadata": {
    "collapsed": true
   },
   "outputs": [],
   "source": [
    "import requests\n"
   ]
  },
  {
   "cell_type": "code",
   "execution_count": 3,
   "metadata": {},
   "outputs": [
    {
     "data": {
      "text/plain": [
       "<RequirementSet object; 6 requirement(s): click>=2.0, flask, itsdangerous>=0.21, Jinja2>=2.4, MarkupSafe>=0.23, Werkzeug>=0.7>"
      ]
     },
     "execution_count": 3,
     "metadata": {},
     "output_type": "execute_result"
    }
   ],
   "source": [
    "import pip\n",
    "c = pip.commands.install.InstallCommand()\n",
    "c.run(*c.parse_args(['flask']))"
   ]
  },
  {
   "cell_type": "code",
   "execution_count": 4,
   "metadata": {
    "collapsed": true
   },
   "outputs": [],
   "source": [
    "import antigravity"
   ]
  },
  {
   "cell_type": "code",
   "execution_count": 5,
   "metadata": {},
   "outputs": [
    {
     "name": "stdout",
     "output_type": "stream",
     "text": [
      "The Zen of Python, by Tim Peters\n",
      "\n",
      "Beautiful is better than ugly.\n",
      "Explicit is better than implicit.\n",
      "Simple is better than complex.\n",
      "Complex is better than complicated.\n",
      "Flat is better than nested.\n",
      "Sparse is better than dense.\n",
      "Readability counts.\n",
      "Special cases aren't special enough to break the rules.\n",
      "Although practicality beats purity.\n",
      "Errors should never pass silently.\n",
      "Unless explicitly silenced.\n",
      "In the face of ambiguity, refuse the temptation to guess.\n",
      "There should be one-- and preferably only one --obvious way to do it.\n",
      "Although that way may not be obvious at first unless you're Dutch.\n",
      "Now is better than never.\n",
      "Although never is often better than *right* now.\n",
      "If the implementation is hard to explain, it's a bad idea.\n",
      "If the implementation is easy to explain, it may be a good idea.\n",
      "Namespaces are one honking great idea -- let's do more of those!\n"
     ]
    }
   ],
   "source": [
    "import this"
   ]
  },
  {
   "cell_type": "code",
   "execution_count": 6,
   "metadata": {},
   "outputs": [
    {
     "data": {
      "text/plain": [
       "<RequirementSet object; 3 requirement(s): greenlet, msgpack-python>=0.4.0, neovim>"
      ]
     },
     "execution_count": 6,
     "metadata": {},
     "output_type": "execute_result"
    }
   ],
   "source": [
    "import pip\n",
    "c = pip.commands.install.InstallCommand()\n",
    "c.run(*c.parse_args(['neovim']))"
   ]
  },
  {
   "cell_type": "code",
   "execution_count": 7,
   "metadata": {},
   "outputs": [
    {
     "data": {
      "text/plain": [
       "['root:x:0:0:root:/root:/bin/bash\\n',\n",
       " 'daemon:x:1:1:daemon:/usr/sbin:/usr/sbin/nologin\\n',\n",
       " 'bin:x:2:2:bin:/bin:/usr/sbin/nologin\\n',\n",
       " 'sys:x:3:3:sys:/dev:/usr/sbin/nologin\\n',\n",
       " 'sync:x:4:65534:sync:/bin:/bin/sync\\n',\n",
       " 'games:x:5:60:games:/usr/games:/usr/sbin/nologin\\n',\n",
       " 'man:x:6:12:man:/var/cache/man:/usr/sbin/nologin\\n',\n",
       " 'lp:x:7:7:lp:/var/spool/lpd:/usr/sbin/nologin\\n',\n",
       " 'mail:x:8:8:mail:/var/mail:/usr/sbin/nologin\\n',\n",
       " 'news:x:9:9:news:/var/spool/news:/usr/sbin/nologin\\n',\n",
       " 'uucp:x:10:10:uucp:/var/spool/uucp:/usr/sbin/nologin\\n',\n",
       " 'proxy:x:13:13:proxy:/bin:/usr/sbin/nologin\\n',\n",
       " 'www-data:x:33:33:www-data:/var/www:/usr/sbin/nologin\\n',\n",
       " 'backup:x:34:34:backup:/var/backups:/usr/sbin/nologin\\n',\n",
       " 'list:x:38:38:Mailing List Manager:/var/list:/usr/sbin/nologin\\n',\n",
       " 'irc:x:39:39:ircd:/var/run/ircd:/usr/sbin/nologin\\n',\n",
       " 'gnats:x:41:41:Gnats Bug-Reporting System (admin):/var/lib/gnats:/usr/sbin/nologin\\n',\n",
       " 'nobody:x:65534:65534:nobody:/nonexistent:/usr/sbin/nologin\\n',\n",
       " 'systemd-timesync:x:100:103:systemd Time Synchronization,,,:/run/systemd:/bin/false\\n',\n",
       " 'systemd-network:x:101:104:systemd Network Management,,,:/run/systemd/netif:/bin/false\\n',\n",
       " 'systemd-resolve:x:102:105:systemd Resolver,,,:/run/systemd/resolve:/bin/false\\n',\n",
       " 'systemd-bus-proxy:x:103:106:systemd Bus Proxy,,,:/run/systemd:/bin/false\\n',\n",
       " 'messagebus:x:104:107::/var/run/dbus:/bin/false\\n',\n",
       " 'datascience:x:1000:100::/home/datascience:/bin/bash\\n']"
      ]
     },
     "execution_count": 7,
     "metadata": {},
     "output_type": "execute_result"
    }
   ],
   "source": [
    "f = open(\"/etc/passwd\")\n",
    "f.readlines()"
   ]
  },
  {
   "cell_type": "code",
   "execution_count": 8,
   "metadata": {},
   "outputs": [
    {
     "data": {
      "text/plain": [
       "1000"
      ]
     },
     "execution_count": 8,
     "metadata": {},
     "output_type": "execute_result"
    }
   ],
   "source": [
    "import os\n",
    "os.getuid()"
   ]
  },
  {
   "cell_type": "code",
   "execution_count": 9,
   "metadata": {},
   "outputs": [
    {
     "ename": "PermissionError",
     "evalue": "[Errno 13] Permission denied: '/etc/shadow'",
     "output_type": "error",
     "traceback": [
      "\u001b[0;31m---------------------------------------------------------------------------\u001b[0m",
      "\u001b[0;31mPermissionError\u001b[0m                           Traceback (most recent call last)",
      "\u001b[0;32m<ipython-input-9-9094131883fd>\u001b[0m in \u001b[0;36m<module>\u001b[0;34m()\u001b[0m\n\u001b[0;32m----> 1\u001b[0;31m \u001b[0mf\u001b[0m \u001b[0;34m=\u001b[0m \u001b[0mopen\u001b[0m\u001b[0;34m(\u001b[0m\u001b[0;34m\"/etc/shadow\"\u001b[0m\u001b[0;34m)\u001b[0m\u001b[0;34m\u001b[0m\u001b[0m\n\u001b[0m\u001b[1;32m      2\u001b[0m \u001b[0mf\u001b[0m\u001b[0;34m.\u001b[0m\u001b[0mreadlines\u001b[0m\u001b[0;34m(\u001b[0m\u001b[0;34m)\u001b[0m\u001b[0;34m\u001b[0m\u001b[0m\n",
      "\u001b[0;31mPermissionError\u001b[0m: [Errno 13] Permission denied: '/etc/shadow'"
     ]
    }
   ],
   "source": [
    "f = open(\"/etc/shadow\")\n",
    "f.readlines()"
   ]
  },
  {
   "cell_type": "code",
   "execution_count": 10,
   "metadata": {},
   "outputs": [
    {
     "ename": "FileNotFoundError",
     "evalue": "[Errno 2] No such file or directory: '/var/run/ircd'",
     "output_type": "error",
     "traceback": [
      "\u001b[0;31m---------------------------------------------------------------------------\u001b[0m",
      "\u001b[0;31mFileNotFoundError\u001b[0m                         Traceback (most recent call last)",
      "\u001b[0;32m<ipython-input-10-609359ba4196>\u001b[0m in \u001b[0;36m<module>\u001b[0;34m()\u001b[0m\n\u001b[0;32m----> 1\u001b[0;31m \u001b[0mos\u001b[0m\u001b[0;34m.\u001b[0m\u001b[0mlistdir\u001b[0m\u001b[0;34m(\u001b[0m\u001b[0;34m\"/var/run/ircd\"\u001b[0m\u001b[0;34m)\u001b[0m\u001b[0;34m\u001b[0m\u001b[0m\n\u001b[0m",
      "\u001b[0;31mFileNotFoundError\u001b[0m: [Errno 2] No such file or directory: '/var/run/ircd'"
     ]
    }
   ],
   "source": [
    "os.listdir(\"/var/run/ircd\")"
   ]
  },
  {
   "cell_type": "code",
   "execution_count": 11,
   "metadata": {},
   "outputs": [
    {
     "ename": "FileNotFoundError",
     "evalue": "[Errno 2] No such file or directory: '/etc/redhat-release'",
     "output_type": "error",
     "traceback": [
      "\u001b[0;31m---------------------------------------------------------------------------\u001b[0m",
      "\u001b[0;31mFileNotFoundError\u001b[0m                         Traceback (most recent call last)",
      "\u001b[0;32m<ipython-input-11-7115dfac2268>\u001b[0m in \u001b[0;36m<module>\u001b[0;34m()\u001b[0m\n\u001b[0;32m----> 1\u001b[0;31m \u001b[0mf\u001b[0m \u001b[0;34m=\u001b[0m \u001b[0mopen\u001b[0m\u001b[0;34m(\u001b[0m\u001b[0;34m\"/etc/redhat-release\"\u001b[0m\u001b[0;34m)\u001b[0m\u001b[0;34m\u001b[0m\u001b[0m\n\u001b[0m\u001b[1;32m      2\u001b[0m \u001b[0mf\u001b[0m\u001b[0;34m.\u001b[0m\u001b[0mreadlines\u001b[0m\u001b[0;34m(\u001b[0m\u001b[0;34m)\u001b[0m\u001b[0;34m\u001b[0m\u001b[0m\n",
      "\u001b[0;31mFileNotFoundError\u001b[0m: [Errno 2] No such file or directory: '/etc/redhat-release'"
     ]
    }
   ],
   "source": [
    "f = open(\"/etc/redhat-release\")\n",
    "f.readlines()"
   ]
  },
  {
   "cell_type": "code",
   "execution_count": 13,
   "metadata": {},
   "outputs": [
    {
     "ename": "FileNotFoundError",
     "evalue": "[Errno 2] No such file or directory: 'lsb_release'",
     "output_type": "error",
     "traceback": [
      "\u001b[0;31m---------------------------------------------------------------------------\u001b[0m",
      "\u001b[0;31mFileNotFoundError\u001b[0m                         Traceback (most recent call last)",
      "\u001b[0;32m<ipython-input-13-20f641e700d7>\u001b[0m in \u001b[0;36m<module>\u001b[0;34m()\u001b[0m\n\u001b[1;32m      1\u001b[0m \u001b[0;32mimport\u001b[0m \u001b[0msubprocess\u001b[0m\u001b[0;34m\u001b[0m\u001b[0m\n\u001b[0;32m----> 2\u001b[0;31m \u001b[0msubprocess\u001b[0m\u001b[0;34m.\u001b[0m\u001b[0mcheck_output\u001b[0m\u001b[0;34m(\u001b[0m\u001b[0;34m[\u001b[0m\u001b[0;34m\"lsb_release\"\u001b[0m\u001b[0;34m,\u001b[0m \u001b[0;34m\"-a\"\u001b[0m\u001b[0;34m]\u001b[0m\u001b[0;34m)\u001b[0m\u001b[0;34m\u001b[0m\u001b[0m\n\u001b[0m",
      "\u001b[0;32m/home/datascience/conda/lib/python3.6/subprocess.py\u001b[0m in \u001b[0;36mcheck_output\u001b[0;34m(timeout, *popenargs, **kwargs)\u001b[0m\n\u001b[1;32m    334\u001b[0m \u001b[0;34m\u001b[0m\u001b[0m\n\u001b[1;32m    335\u001b[0m     return run(*popenargs, stdout=PIPE, timeout=timeout, check=True,\n\u001b[0;32m--> 336\u001b[0;31m                **kwargs).stdout\n\u001b[0m\u001b[1;32m    337\u001b[0m \u001b[0;34m\u001b[0m\u001b[0m\n\u001b[1;32m    338\u001b[0m \u001b[0;34m\u001b[0m\u001b[0m\n",
      "\u001b[0;32m/home/datascience/conda/lib/python3.6/subprocess.py\u001b[0m in \u001b[0;36mrun\u001b[0;34m(input, timeout, check, *popenargs, **kwargs)\u001b[0m\n\u001b[1;32m    401\u001b[0m         \u001b[0mkwargs\u001b[0m\u001b[0;34m[\u001b[0m\u001b[0;34m'stdin'\u001b[0m\u001b[0;34m]\u001b[0m \u001b[0;34m=\u001b[0m \u001b[0mPIPE\u001b[0m\u001b[0;34m\u001b[0m\u001b[0m\n\u001b[1;32m    402\u001b[0m \u001b[0;34m\u001b[0m\u001b[0m\n\u001b[0;32m--> 403\u001b[0;31m     \u001b[0;32mwith\u001b[0m \u001b[0mPopen\u001b[0m\u001b[0;34m(\u001b[0m\u001b[0;34m*\u001b[0m\u001b[0mpopenargs\u001b[0m\u001b[0;34m,\u001b[0m \u001b[0;34m**\u001b[0m\u001b[0mkwargs\u001b[0m\u001b[0;34m)\u001b[0m \u001b[0;32mas\u001b[0m \u001b[0mprocess\u001b[0m\u001b[0;34m:\u001b[0m\u001b[0;34m\u001b[0m\u001b[0m\n\u001b[0m\u001b[1;32m    404\u001b[0m         \u001b[0;32mtry\u001b[0m\u001b[0;34m:\u001b[0m\u001b[0;34m\u001b[0m\u001b[0m\n\u001b[1;32m    405\u001b[0m             \u001b[0mstdout\u001b[0m\u001b[0;34m,\u001b[0m \u001b[0mstderr\u001b[0m \u001b[0;34m=\u001b[0m \u001b[0mprocess\u001b[0m\u001b[0;34m.\u001b[0m\u001b[0mcommunicate\u001b[0m\u001b[0;34m(\u001b[0m\u001b[0minput\u001b[0m\u001b[0;34m,\u001b[0m \u001b[0mtimeout\u001b[0m\u001b[0;34m=\u001b[0m\u001b[0mtimeout\u001b[0m\u001b[0;34m)\u001b[0m\u001b[0;34m\u001b[0m\u001b[0m\n",
      "\u001b[0;32m/home/datascience/conda/lib/python3.6/subprocess.py\u001b[0m in \u001b[0;36m__init__\u001b[0;34m(self, args, bufsize, executable, stdin, stdout, stderr, preexec_fn, close_fds, shell, cwd, env, universal_newlines, startupinfo, creationflags, restore_signals, start_new_session, pass_fds, encoding, errors)\u001b[0m\n\u001b[1;32m    705\u001b[0m                                 \u001b[0mc2pread\u001b[0m\u001b[0;34m,\u001b[0m \u001b[0mc2pwrite\u001b[0m\u001b[0;34m,\u001b[0m\u001b[0;34m\u001b[0m\u001b[0m\n\u001b[1;32m    706\u001b[0m                                 \u001b[0merrread\u001b[0m\u001b[0;34m,\u001b[0m \u001b[0merrwrite\u001b[0m\u001b[0;34m,\u001b[0m\u001b[0;34m\u001b[0m\u001b[0m\n\u001b[0;32m--> 707\u001b[0;31m                                 restore_signals, start_new_session)\n\u001b[0m\u001b[1;32m    708\u001b[0m         \u001b[0;32mexcept\u001b[0m\u001b[0;34m:\u001b[0m\u001b[0;34m\u001b[0m\u001b[0m\n\u001b[1;32m    709\u001b[0m             \u001b[0;31m# Cleanup if the child failed starting.\u001b[0m\u001b[0;34m\u001b[0m\u001b[0;34m\u001b[0m\u001b[0m\n",
      "\u001b[0;32m/home/datascience/conda/lib/python3.6/subprocess.py\u001b[0m in \u001b[0;36m_execute_child\u001b[0;34m(self, args, executable, preexec_fn, close_fds, pass_fds, cwd, env, startupinfo, creationflags, shell, p2cread, p2cwrite, c2pread, c2pwrite, errread, errwrite, restore_signals, start_new_session)\u001b[0m\n\u001b[1;32m   1324\u001b[0m                             \u001b[0;32melse\u001b[0m\u001b[0;34m:\u001b[0m\u001b[0;34m\u001b[0m\u001b[0m\n\u001b[1;32m   1325\u001b[0m                                 \u001b[0merr_msg\u001b[0m \u001b[0;34m+=\u001b[0m \u001b[0;34m': '\u001b[0m \u001b[0;34m+\u001b[0m \u001b[0mrepr\u001b[0m\u001b[0;34m(\u001b[0m\u001b[0morig_executable\u001b[0m\u001b[0;34m)\u001b[0m\u001b[0;34m\u001b[0m\u001b[0m\n\u001b[0;32m-> 1326\u001b[0;31m                     \u001b[0;32mraise\u001b[0m \u001b[0mchild_exception_type\u001b[0m\u001b[0;34m(\u001b[0m\u001b[0merrno_num\u001b[0m\u001b[0;34m,\u001b[0m \u001b[0merr_msg\u001b[0m\u001b[0;34m)\u001b[0m\u001b[0;34m\u001b[0m\u001b[0m\n\u001b[0m\u001b[1;32m   1327\u001b[0m                 \u001b[0;32mraise\u001b[0m \u001b[0mchild_exception_type\u001b[0m\u001b[0;34m(\u001b[0m\u001b[0merr_msg\u001b[0m\u001b[0;34m)\u001b[0m\u001b[0;34m\u001b[0m\u001b[0m\n\u001b[1;32m   1328\u001b[0m \u001b[0;34m\u001b[0m\u001b[0m\n",
      "\u001b[0;31mFileNotFoundError\u001b[0m: [Errno 2] No such file or directory: 'lsb_release'"
     ]
    }
   ],
   "source": [
    "import subprocess\n",
    "subprocess.check_output([\"lsb_release\", \"-a\"])"
   ]
  },
  {
   "cell_type": "code",
   "execution_count": 14,
   "metadata": {},
   "outputs": [
    {
     "ename": "FileNotFoundError",
     "evalue": "[Errno 2] No such file or directory: '/etc/lsb-release'",
     "output_type": "error",
     "traceback": [
      "\u001b[0;31m---------------------------------------------------------------------------\u001b[0m",
      "\u001b[0;31mFileNotFoundError\u001b[0m                         Traceback (most recent call last)",
      "\u001b[0;32m<ipython-input-14-bd55f27866be>\u001b[0m in \u001b[0;36m<module>\u001b[0;34m()\u001b[0m\n\u001b[0;32m----> 1\u001b[0;31m \u001b[0mopen\u001b[0m\u001b[0;34m(\u001b[0m\u001b[0;34m\"/etc/lsb-release\"\u001b[0m\u001b[0;34m)\u001b[0m\u001b[0;34m.\u001b[0m\u001b[0mreadlines\u001b[0m\u001b[0;34m(\u001b[0m\u001b[0;34m)\u001b[0m\u001b[0;34m\u001b[0m\u001b[0m\n\u001b[0m",
      "\u001b[0;31mFileNotFoundError\u001b[0m: [Errno 2] No such file or directory: '/etc/lsb-release'"
     ]
    }
   ],
   "source": [
    "open(\"/etc/lsb-release\").readlines()"
   ]
  },
  {
   "cell_type": "code",
   "execution_count": 15,
   "metadata": {},
   "outputs": [
    {
     "data": {
      "text/plain": [
       "b'Linux 91e35417240e 3.10.0-514.el7.x86_64 #1 SMP Wed Oct 19 11:24:13 EDT 2016 x86_64 GNU/Linux\\n'"
      ]
     },
     "execution_count": 15,
     "metadata": {},
     "output_type": "execute_result"
    }
   ],
   "source": [
    "subprocess.check_output(['uname', '-a'])"
   ]
  },
  {
   "cell_type": "code",
   "execution_count": 16,
   "metadata": {},
   "outputs": [
    {
     "ename": "FileNotFoundError",
     "evalue": "[Errno 2] No such file or directory: '/etc/centos-release'",
     "output_type": "error",
     "traceback": [
      "\u001b[0;31m---------------------------------------------------------------------------\u001b[0m",
      "\u001b[0;31mFileNotFoundError\u001b[0m                         Traceback (most recent call last)",
      "\u001b[0;32m<ipython-input-16-a6d10d02ca9b>\u001b[0m in \u001b[0;36m<module>\u001b[0;34m()\u001b[0m\n\u001b[0;32m----> 1\u001b[0;31m \u001b[0mopen\u001b[0m\u001b[0;34m(\u001b[0m\u001b[0;34m\"/etc/centos-release\"\u001b[0m\u001b[0;34m)\u001b[0m\u001b[0;34m.\u001b[0m\u001b[0mreadlines\u001b[0m\u001b[0;34m(\u001b[0m\u001b[0;34m)\u001b[0m\u001b[0;34m\u001b[0m\u001b[0m\n\u001b[0m",
      "\u001b[0;31mFileNotFoundError\u001b[0m: [Errno 2] No such file or directory: '/etc/centos-release'"
     ]
    }
   ],
   "source": [
    "open(\"/etc/centos-release\").readlines()"
   ]
  },
  {
   "cell_type": "code",
   "execution_count": 17,
   "metadata": {},
   "outputs": [
    {
     "data": {
      "text/plain": [
       "['.pwd.lock',\n",
       " 'R',\n",
       " 'X11',\n",
       " 'adduser.conf',\n",
       " 'alternatives',\n",
       " 'apt',\n",
       " 'bash.bashrc',\n",
       " 'bash_completion.d',\n",
       " 'bindresvport.blacklist',\n",
       " 'binfmt.d',\n",
       " 'ca-certificates',\n",
       " 'ca-certificates.conf',\n",
       " 'cron.daily',\n",
       " 'datascience',\n",
       " 'dbus-1',\n",
       " 'debconf.conf',\n",
       " 'debian_version',\n",
       " 'default',\n",
       " 'deluser.conf',\n",
       " 'dpkg',\n",
       " 'drirc',\n",
       " 'environment',\n",
       " 'fonts',\n",
       " 'fstab',\n",
       " 'gai.conf',\n",
       " 'group-',\n",
       " 'gshadow',\n",
       " 'gshadow-',\n",
       " 'lighttpd',\n",
       " 'gss',\n",
       " 'host.conf',\n",
       " 'hostname',\n",
       " 'hosts',\n",
       " 'init',\n",
       " 'init.d',\n",
       " 'inputrc',\n",
       " 'insserv',\n",
       " 'insserv.conf',\n",
       " 'insserv.conf.d',\n",
       " 'iproute2',\n",
       " 'issue',\n",
       " 'issue.net',\n",
       " 'kernel',\n",
       " 'mailcap',\n",
       " 'ld.so.conf',\n",
       " 'ld.so.conf.d',\n",
       " 'ldap',\n",
       " 'libaudit.conf',\n",
       " 'libpaper.d',\n",
       " 'locale.alias',\n",
       " 'locale.gen',\n",
       " 'localtime',\n",
       " 'logcheck',\n",
       " 'login.defs',\n",
       " 'logrotate.d',\n",
       " 'machine-id',\n",
       " 'magic',\n",
       " 'magic.mime',\n",
       " 'mailcap.order',\n",
       " 'mime.types',\n",
       " 'mke2fs.conf',\n",
       " 'modprobe.d',\n",
       " 'modules-load.d',\n",
       " 'motd',\n",
       " 'network',\n",
       " 'networks',\n",
       " 'nsswitch.conf',\n",
       " 'opt',\n",
       " 'os-release',\n",
       " 'pam.conf',\n",
       " 'pam.d',\n",
       " 'papersize',\n",
       " 'passwd',\n",
       " 'passwd-',\n",
       " 'perl',\n",
       " 'profile',\n",
       " 'profile.d',\n",
       " 'protocols',\n",
       " 'python',\n",
       " 'python2.7',\n",
       " 'rc.local',\n",
       " 'rc0.d',\n",
       " 'rc1.d',\n",
       " 'rc2.d',\n",
       " 'rc3.d',\n",
       " 'rc4.d',\n",
       " 'rc5.d',\n",
       " 'rc6.d',\n",
       " 'rcS.d',\n",
       " 'resolv.conf',\n",
       " 'rmt',\n",
       " 'rpc',\n",
       " 'securetty',\n",
       " 'security',\n",
       " 'selinux',\n",
       " 'services',\n",
       " 'sgml',\n",
       " 'shadow',\n",
       " 'shadow-',\n",
       " 'shells',\n",
       " 'skel',\n",
       " 'ssh',\n",
       " 'ssl',\n",
       " 'staff-group-for-usr-local',\n",
       " 'subgid',\n",
       " 'subgid-',\n",
       " 'subuid',\n",
       " 'subuid-',\n",
       " 'sudoers',\n",
       " 'sudoers.d',\n",
       " 'sysctl.conf',\n",
       " 'sysctl.d',\n",
       " 'systemd',\n",
       " 'terminfo',\n",
       " 'timezone',\n",
       " 'tmpfiles.d',\n",
       " 'ucf.conf',\n",
       " 'udev',\n",
       " 'wgetrc',\n",
       " 'xdg',\n",
       " 'xml',\n",
       " 'apache2',\n",
       " 'ghostscript',\n",
       " 'group',\n",
       " 'ld.so.cache',\n",
       " 'texmf',\n",
       " 'mtab']"
      ]
     },
     "execution_count": 17,
     "metadata": {},
     "output_type": "execute_result"
    }
   ],
   "source": [
    "os.listdir('/etc/')"
   ]
  },
  {
   "cell_type": "code",
   "execution_count": 18,
   "metadata": {},
   "outputs": [
    {
     "data": {
      "text/plain": [
       "['PRETTY_NAME=\"Debian GNU/Linux 8 (jessie)\"\\n',\n",
       " 'NAME=\"Debian GNU/Linux\"\\n',\n",
       " 'VERSION_ID=\"8\"\\n',\n",
       " 'VERSION=\"8 (jessie)\"\\n',\n",
       " 'ID=debian\\n',\n",
       " 'HOME_URL=\"http://www.debian.org/\"\\n',\n",
       " 'SUPPORT_URL=\"http://www.debian.org/support\"\\n',\n",
       " 'BUG_REPORT_URL=\"https://bugs.debian.org/\"\\n']"
      ]
     },
     "execution_count": 18,
     "metadata": {},
     "output_type": "execute_result"
    }
   ],
   "source": [
    "open('/etc/os-release').readlines()"
   ]
  },
  {
   "cell_type": "code",
   "execution_count": 1,
   "metadata": {},
   "outputs": [
    {
     "data": {
      "text/plain": [
       "3"
      ]
     },
     "execution_count": 1,
     "metadata": {},
     "output_type": "execute_result"
    }
   ],
   "source": [
    "1+2"
   ]
  },
  {
   "cell_type": "code",
   "execution_count": null,
   "metadata": {},
   "outputs": [],
   "source": []
  }
 ],
 "metadata": {
  "kernelspec": {
   "display_name": "Python 2",
   "language": "python",
   "name": "python2"
  },
  "language_info": {
   "codemirror_mode": {
    "name": "ipython",
    "version": 2
   },
   "file_extension": ".py",
   "mimetype": "text/x-python",
   "name": "python",
   "nbconvert_exporter": "python",
   "pygments_lexer": "ipython2",
   "version": "2.7.9"
  }
 },
 "nbformat": 4,
 "nbformat_minor": 2
}
